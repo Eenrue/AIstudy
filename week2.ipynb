{
 "cells": [
  {
   "cell_type": "code",
   "execution_count": 73,
   "metadata": {},
   "outputs": [
    {
     "name": "stdout",
     "output_type": "stream",
     "text": [
      "4.0\n"
     ]
    },
    {
     "ename": "TypeError",
     "evalue": "'bool' object is not callable",
     "output_type": "error",
     "traceback": [
      "\u001b[0;31m---------------------------------------------------------------------------\u001b[0m",
      "\u001b[0;31mTypeError\u001b[0m                                 Traceback (most recent call last)",
      "\u001b[1;32m/Users/hyunwook/Desktop/AIstudy/week2.ipynb Cell 1\u001b[0m line \u001b[0;36m1\n\u001b[1;32m      <a href='vscode-notebook-cell:/Users/hyunwook/Desktop/AIstudy/week2.ipynb#W0sZmlsZQ%3D%3D?line=7'>8</a>\u001b[0m \u001b[39mfor\u001b[39;00m i \u001b[39min\u001b[39;00m \u001b[39mrange\u001b[39m(\u001b[39m10\u001b[39m):\n\u001b[1;32m     <a href='vscode-notebook-cell:/Users/hyunwook/Desktop/AIstudy/week2.ipynb#W0sZmlsZQ%3D%3D?line=9'>10</a>\u001b[0m     x\u001b[39m=\u001b[39mx\u001b[39m-\u001b[39m(lr\u001b[39m*\u001b[39m\u001b[39mfloat\u001b[39m(\u001b[39m1\u001b[39m))\n\u001b[0;32m---> <a href='vscode-notebook-cell:/Users/hyunwook/Desktop/AIstudy/week2.ipynb#W0sZmlsZQ%3D%3D?line=10'>11</a>\u001b[0m     x\u001b[39m.\u001b[39;49mrequires_grad(\u001b[39mTrue\u001b[39;49;00m)\n\u001b[1;32m     <a href='vscode-notebook-cell:/Users/hyunwook/Desktop/AIstudy/week2.ipynb#W0sZmlsZQ%3D%3D?line=11'>12</a>\u001b[0m     \u001b[39mprint\u001b[39m(x)\n\u001b[1;32m     <a href='vscode-notebook-cell:/Users/hyunwook/Desktop/AIstudy/week2.ipynb#W0sZmlsZQ%3D%3D?line=12'>13</a>\u001b[0m     \u001b[39m# nx=torch.tensor(x-x.grad*lr)\u001b[39;00m\n",
      "\u001b[0;31mTypeError\u001b[0m: 'bool' object is not callable"
     ]
    }
   ],
   "source": [
    "import torch\n",
    "import matplotlib.pyplot as plt\n",
    "lr=0.1\n",
    "x=torch.tensor(2.0,requires_grad=True)\n",
    "y=x**2\n",
    "y.backward()\n",
    "print(float(x.grad))\n",
    "for i in range(10):\n",
    "\n",
    "    x=x-(lr*float(1))\n",
    "    x.requires_grad_(True)\n",
    "    print(x)\n",
    "    # nx=torch.tensor(x-x.grad*lr)\n",
    "    y=x**2\n",
    "    y.backward()\n",
    "    print(x.grad)\n"
   ]
  }
 ],
 "metadata": {
  "kernelspec": {
   "display_name": "ml",
   "language": "python",
   "name": "python3"
  },
  "language_info": {
   "codemirror_mode": {
    "name": "ipython",
    "version": 3
   },
   "file_extension": ".py",
   "mimetype": "text/x-python",
   "name": "python",
   "nbconvert_exporter": "python",
   "pygments_lexer": "ipython3",
   "version": "3.9.6"
  }
 },
 "nbformat": 4,
 "nbformat_minor": 2
}
